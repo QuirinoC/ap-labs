{
 "cells": [
  {
   "cell_type": "markdown",
   "metadata": {},
   "source": [
    "# Report for Lab 1.1"
   ]
  },
  {
   "cell_type": "code",
   "execution_count": 1,
   "metadata": {},
   "outputs": [],
   "source": [
    "import benchmark\n",
    "import matplotlib.pyplot as plt"
   ]
  },
  {
   "cell_type": "markdown",
   "metadata": {},
   "source": [
    "## Create files with 5, 25, 125... and benchmarking with cat and my cat"
   ]
  },
  {
   "cell_type": "code",
   "execution_count": 2,
   "metadata": {},
   "outputs": [
    {
     "name": "stdout",
     "output_type": "stream",
     "text": [
      "Creating file with 5 chars...\n",
      "Creating file with 25 chars...\n",
      "Creating file with 125 chars...\n",
      "Creating file with 625 chars...\n",
      "Creating file with 3125 chars...\n",
      "Creating file with 15625 chars...\n",
      "Creating file with 78125 chars...\n",
      "Creating file with 390625 chars...\n",
      "Creating file with 1953125 chars...\n",
      "Creating file with 9765625 chars...\n"
     ]
    }
   ],
   "source": [
    "results = benchmark.run('cat', 'mycat')"
   ]
  },
  {
   "cell_type": "code",
   "execution_count": 3,
   "metadata": {},
   "outputs": [],
   "source": [
    "cat = [0]\n",
    "mycat = [0]\n",
    "for a,b in results: cat.append(a); mycat.append(b);"
   ]
  },
  {
   "cell_type": "markdown",
   "metadata": {},
   "source": [
    "## Plot the times with each program"
   ]
  },
  {
   "cell_type": "code",
   "execution_count": 13,
   "metadata": {},
   "outputs": [
    {
     "data": {
      "image/png": "[encoded data removed]",
      "text/plain": [
       "<Figure size 432x288 with 1 Axes>"
      ]
     },
     "metadata": {
      "needs_background": "light"
     },
     "output_type": "display_data"
    }
   ],
   "source": [
    "plt.plot(cat, label='cat')\n",
    "plt.plot(mycat, label='mycat')\n",
    "plt.legend()\n",
    "plt.xlabel('Number of chars to the 5th power')\n",
    "plt.ylabel('Time')\n",
    "plt.xticks([1,2,3,4,5,6,7,8,9,10])\n",
    "plt.grid()"
   ]
  },
  {
   "cell_type": "code",
   "execution_count": null,
   "metadata": {},
   "outputs": [],
   "source": []
  },
  {
   "cell_type": "code",
   "execution_count": null,
   "metadata": {},
   "outputs": [],
   "source": []
  }
 ],
 "metadata": {
  "kernelspec": {
   "display_name": "Python 3",
   "language": "python",
   "name": "python3"
  },
  "language_info": {
   "codemirror_mode": {
    "name": "ipython",
    "version": 3
   },
   "file_extension": ".py",
   "mimetype": "text/x-python",
   "name": "python",
   "nbconvert_exporter": "python",
   "pygments_lexer": "ipython3",
   "version": "3.7.0"
  }
 },
 "nbformat": 4,
 "nbformat_minor": 2
}
